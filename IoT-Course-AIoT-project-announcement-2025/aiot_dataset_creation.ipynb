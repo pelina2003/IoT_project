{
 "cells": [
  {
   "cell_type": "markdown",
   "id": "feb87f6e",
   "metadata": {},
   "source": [
    "# MongoDB Handling\n",
    "\n",
    "After installing the MongoDB server in your machine, you can use this notebook for handling the initial processes with the database.\n",
    "\n",
    "Specifically, in this step, we utilize Python's `pymongo` library to exploit its capabilities for MongoDB server interaction.\n",
    "\n",
    "**Important Note: Be sure that the MongoDB server is up and running as a service in the background.**\n",
    "\n",
    "For example, in macOS, to run MongoDB (i.e. the mongod process) as a service, run:\n",
    "\n",
    "* `brew services start mongodb-community`\n",
    "\n",
    "To stop a mongod running as a macOS service, use the following command as needed:\n",
    "\n",
    "* `brew services stop mongodb-community`\n",
    "\n",
    "To install MongoDB in your system, follow the instructions here:\n",
    "\n",
    "* https://www.mongodb.com/docs/manual/administration/install-community/\n",
    "\n",
    "\n",
    "**Note:** You can modify any of the processes below, however, you have to explain your thoughts."
   ]
  },
  {
   "cell_type": "code",
   "execution_count": 1,
   "id": "5a192af2",
   "metadata": {},
   "outputs": [],
   "source": [
    "# import library for various processes with the OS\n",
    "import os"
   ]
  },
  {
   "cell_type": "markdown",
   "id": "c1a34708",
   "metadata": {},
   "source": [
    "## Load configuration"
   ]
  },
  {
   "cell_type": "code",
   "execution_count": 2,
   "id": "4e970c28",
   "metadata": {},
   "outputs": [],
   "source": [
    "# import library for yaml handling\n",
    "import yaml"
   ]
  },
  {
   "cell_type": "code",
   "execution_count": 3,
   "id": "bbb4f44b",
   "metadata": {},
   "outputs": [],
   "source": [
    "config_path = os.path.join(os.getcwd(), \"config.yml\")\n",
    "\n",
    "with open(config_path) as file:\n",
    "    config = yaml.load(file, Loader=yaml.FullLoader)"
   ]
  },
  {
   "cell_type": "markdown",
   "id": "65bac888",
   "metadata": {},
   "source": [
    "## MongoDB database instantiation\n",
    "\n",
    "The relevant information for the MongoDB client connection, the database name, and collection name is located in the configuration file.\n",
    "\n",
    "```\n",
    "# DB Connection with the uri (host)\n",
    "client: \"mongodb://localhost:27017/\"\n",
    "\n",
    "# db name\n",
    "db: \"aiot_course\"\n",
    "\n",
    "# db collection\n",
    "col: \"NAME YOUR COLLECTION\"\n",
    "```"
   ]
  },
  {
   "cell_type": "code",
   "execution_count": 4,
   "id": "f3cc2add",
   "metadata": {},
   "outputs": [],
   "source": [
    "# import library for hanlding the MongoDB client\n",
    "import pymongo\n",
    "# import library for retrieving datetime\n",
    "from datetime import datetime"
   ]
  },
  {
   "cell_type": "markdown",
   "id": "7dbbbe9f",
   "metadata": {},
   "source": [
    "### Create the database\n",
    "\n",
    "To create a database in MongoDB, start by creating a MongoClient object, then specify a connection URL with the correct ip address and the name of the database you want to create.\n",
    "\n",
    "MongoDB will create the database if it does not exist, and make a connection to it."
   ]
  },
  {
   "cell_type": "code",
   "execution_count": 5,
   "id": "bdbb888f",
   "metadata": {},
   "outputs": [],
   "source": [
    "client = pymongo.MongoClient(config[\"client\"])"
   ]
  },
  {
   "cell_type": "code",
   "execution_count": 6,
   "id": "203c2bc7",
   "metadata": {},
   "outputs": [],
   "source": [
    "db = client[config[\"db\"]]"
   ]
  },
  {
   "cell_type": "markdown",
   "id": "0772e744",
   "metadata": {},
   "source": [
    "### Instantiate the collection\n",
    "\n",
    "To create a collection in MongoDB, use database object and specify the name of the collection you want to create.\n",
    "\n",
    "MongoDB will create the collection if it does not exist."
   ]
  },
  {
   "cell_type": "code",
   "execution_count": 7,
   "id": "9937a0c8",
   "metadata": {},
   "outputs": [],
   "source": [
    "col = db[config[\"col\"]]"
   ]
  },
  {
   "cell_type": "markdown",
   "id": "2bcde222",
   "metadata": {},
   "source": [
    "Initially, no collection will be shown in MongoDB before you enter the first document!"
   ]
  },
  {
   "cell_type": "markdown",
   "id": "2b5cd593",
   "metadata": {},
   "source": [
    "## Create the data collection\n",
    "\n",
    "Uploading the gathered data to MongoDB collection. The data directory structure should be as follows:\n",
    "\n",
    "```\n",
    ".\n",
    "└── data/\n",
    "    ├── class_A/\n",
    "    │   ├── data_A_01.csv\n",
    "    │   ├── data_A_02.csv\n",
    "    │   └── ..\n",
    "    ├── class_B/\n",
    "    │   ├── data_B_01.csv\n",
    "    │   ├── data_B_02.csv\n",
    "    │   └── .\n",
    "    └── class ...\n",
    "```"
   ]
  },
  {
   "cell_type": "code",
   "execution_count": 8,
   "id": "622636fd",
   "metadata": {},
   "outputs": [],
   "source": [
    "# import library for hanlding the csv data and transformations\n",
    "import pandas as pd\n",
    "import json"
   ]
  },
  {
   "cell_type": "markdown",
   "id": "9532ede2",
   "metadata": {},
   "source": [
    "Get data path:"
   ]
  },
  {
   "cell_type": "code",
   "execution_count": 9,
   "id": "912f079f",
   "metadata": {},
   "outputs": [
    {
     "name": "stdout",
     "output_type": "stream",
     "text": [
      "c:\\Users\\User\\Desktop\\IoTProject\\IoT-Course-AIoT-project-announcement-2025\\data\n"
     ]
    }
   ],
   "source": [
    "data_path = os.path.join(os.getcwd(), \"data\")\n",
    "print(data_path)"
   ]
  },
  {
   "cell_type": "markdown",
   "id": "a981a220",
   "metadata": {},
   "source": [
    "List all files in a path:"
   ]
  },
  {
   "cell_type": "code",
   "execution_count": 10,
   "id": "fd476759",
   "metadata": {},
   "outputs": [
    {
     "name": "stdout",
     "output_type": "stream",
     "text": [
      "['class_A', 'class_D', 'class_L', 'class_M', 'class_U']\n"
     ]
    }
   ],
   "source": [
    "classes_folders_list = [f for f in os.listdir(data_path) if os.path.isdir(os.path.join(data_path, f))]\n",
    "print(classes_folders_list)"
   ]
  },
  {
   "cell_type": "code",
   "execution_count": null,
   "id": "0e8075f6",
   "metadata": {},
   "outputs": [
    {
     "name": "stdout",
     "output_type": "stream",
     "text": [
      "['data_A_01.csv', 'data_A_02.csv', 'data_A_03.csv', 'data_A_04.csv', 'data_A_05.csv', 'data_A_06.csv', 'data_A_07.csv', 'data_A_08.csv', 'data_A_09.csv', 'data_A_10.csv', 'data_A_11.csv', 'data_A_12.csv', 'data_A_13.csv', 'data_A_14.csv', 'data_A_15.csv', 'data_A_16.csv', 'data_A_17.csv', 'data_A_18.csv', 'data_A_19.csv', 'data_A_20.csv', 'data_A_21.csv', 'data_A_22.csv', 'data_A_23.csv', 'data_A_24.csv', 'data_A_25.csv', 'data_A_26.csv', 'data_A_27.csv', 'data_A_28.csv', 'data_A_29.csv', 'data_A_30.csv', 'data_A_31.csv', 'data_A_32.csv', 'data_A_33.csv', 'data_A_34.csv', 'data_A_35.csv', 'data_A_36.csv', 'data_A_37.csv', 'data_A_38.csv', 'data_A_39.csv', 'data_A_40.csv']\n"
     ]
    }
   ],
   "source": [
    "# print files in folder\n",
    "folder_path = os.path.join(data_path, classes_folders_list[0])\n",
    "files_in_folder = [f for f in os.listdir(folder_path) if os.path.isfile(os.path.join(folder_path, f))]\n",
    "print(files_in_folder)\n"
   ]
  },
  {
   "cell_type": "markdown",
   "id": "c65d2961",
   "metadata": {},
   "source": [
    "Each document in the MongoDB database should have the following schema:\n",
    "\n",
    "```json\n",
    "{\n",
    "  \"data\": {\n",
    "    \"acc_x\": [\"array\", \"of\", \"values\"],\n",
    "    \"acc_y\": [\"array\", \"of\", \"values\"],\n",
    "    \"acc_z\": [\"array\", \"of\", \"values\"],\n",
    "  },\n",
    "  \"label\": \"The label of the instance\",\n",
    "  \"datetime\": \"MongoDB datetime object (it can be generated with the datetime.datetime.now() function\"\n",
    "}\n",
    "```\n",
    "\n",
    "Accordingly, if you are using gyroscope or both accelerometer and gyroscope, the following order and naming of the sensor keys should be defined:\n",
    "\n",
    "* for gyroscope: `gyr_x`, `gyr_y`, `gyr_z` for the three axes\n",
    "* for accelerometer and gyroscope: `acc_x`, `acc_y`, `acc_z`, `gyr_x`, `gyr_y`, `gyr_z` for the six axes\n",
    "\n",
    "**Note: Be careful, the document is mandatory to have the aforementioned schema, in order to argue and proceed with the rest of the processes later on, in data engineering, plotting, etc.**"
   ]
  },
  {
   "cell_type": "code",
   "execution_count": 12,
   "id": "4bc16310",
   "metadata": {},
   "outputs": [],
   "source": [
    "from utils import df_rebase"
   ]
  },
  {
   "cell_type": "markdown",
   "id": "115f2ae5",
   "metadata": {},
   "source": [
    "## Provide the code to upload the data to MongoDB"
   ]
  },
  {
   "cell_type": "code",
   "execution_count": 15,
   "id": "56c8d4e2",
   "metadata": {},
   "outputs": [
    {
     "ename": "NameError",
     "evalue": "name 'collection' is not defined",
     "output_type": "error",
     "traceback": [
      "\u001b[31m---------------------------------------------------------------------------\u001b[39m",
      "\u001b[31mNameError\u001b[39m                                 Traceback (most recent call last)",
      "\u001b[36mCell\u001b[39m\u001b[36m \u001b[39m\u001b[32mIn[15]\u001b[39m\u001b[32m, line 33\u001b[39m\n\u001b[32m     26\u001b[39m doc = {\n\u001b[32m     27\u001b[39m     \u001b[33m\"\u001b[39m\u001b[33mdata\u001b[39m\u001b[33m\"\u001b[39m: {col: df[col].tolist() \u001b[38;5;28;01mfor\u001b[39;00m col \u001b[38;5;129;01min\u001b[39;00m df.columns},\n\u001b[32m     28\u001b[39m     \u001b[33m\"\u001b[39m\u001b[33mlabel\u001b[39m\u001b[33m\"\u001b[39m: class_dir,\n\u001b[32m     29\u001b[39m     \u001b[33m\"\u001b[39m\u001b[33mdatetime\u001b[39m\u001b[33m\"\u001b[39m: datetime.now()\n\u001b[32m     30\u001b[39m }\n\u001b[32m     32\u001b[39m \u001b[38;5;66;03m# Ανεβάζουμε στο MongoDB\u001b[39;00m\n\u001b[32m---> \u001b[39m\u001b[32m33\u001b[39m \u001b[43mcollection\u001b[49m.insert_one(doc)\n\u001b[32m     34\u001b[39m \u001b[38;5;28mprint\u001b[39m(\u001b[33mf\u001b[39m\u001b[33m\"\u001b[39m\u001b[33m✅ Uploaded: \u001b[39m\u001b[38;5;132;01m{\u001b[39;00mfilename\u001b[38;5;132;01m}\u001b[39;00m\u001b[33m (class: \u001b[39m\u001b[38;5;132;01m{\u001b[39;00mclass_dir\u001b[38;5;132;01m}\u001b[39;00m\u001b[33m)\u001b[39m\u001b[33m\"\u001b[39m)\n",
      "\u001b[31mNameError\u001b[39m: name 'collection' is not defined"
     ]
    }
   ],
   "source": [
    "import os\n",
    "import pandas as pd\n",
    "from datetime import datetime\n",
    "\n",
    "data_root = config[\"data_path\"]  # Π.χ. \"data\"\n",
    "\n",
    "for class_dir in os.listdir(data_root):\n",
    "    class_path = os.path.join(data_root, class_dir)\n",
    "    if os.path.isdir(class_path):\n",
    "        for filename in os.listdir(class_path):\n",
    "            if filename.endswith(\".csv\"):\n",
    "                file_path = os.path.join(class_path, filename)\n",
    "                df = pd.read_csv(file_path)\n",
    "\n",
    "                # Διάλεξε μόνο τις στήλες του γυροσκοπίου\n",
    "                df = df[[\"x-axis (deg/s)\", \"y-axis (deg/s)\", \"z-axis (deg/s)\"]]\n",
    "\n",
    "                # Μετονομασία σε gyr_x, gyr_y, gyr_z (όπως θέλει το schema)\n",
    "                df = df.rename(columns={\n",
    "                    \"x-axis (deg/s)\": \"gyr_x\",\n",
    "                    \"y-axis (deg/s)\": \"gyr_y\",\n",
    "                    \"z-axis (deg/s)\": \"gyr_z\"\n",
    "                })\n",
    "\n",
    "                # Φτιάχνουμε το έγγραφο\n",
    "                doc = {\n",
    "                    \"data\": {col: df[col].tolist() for col in df.columns},\n",
    "                    \"label\": class_dir,\n",
    "                    \"datetime\": datetime.now()\n",
    "                }\n",
    "\n",
    "                # Ανεβάζουμε στο MongoDB\n",
    "                collection.insert_one(doc)\n",
    "                print(f\"✅ Uploaded: {filename} (class: {class_dir})\")\n"
   ]
  }
 ],
 "metadata": {
  "kernelspec": {
   "display_name": "Python 3",
   "language": "python",
   "name": "python3"
  },
  "language_info": {
   "codemirror_mode": {
    "name": "ipython",
    "version": 3
   },
   "file_extension": ".py",
   "mimetype": "text/x-python",
   "name": "python",
   "nbconvert_exporter": "python",
   "pygments_lexer": "ipython3",
   "version": "3.11.9"
  }
 },
 "nbformat": 4,
 "nbformat_minor": 5
}
